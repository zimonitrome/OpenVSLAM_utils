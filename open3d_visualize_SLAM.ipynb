{
 "cells": [
  {
   "cell_type": "markdown",
   "metadata": {},
   "source": [
    "Load points from SLAM capture."
   ]
  },
  {
   "cell_type": "code",
   "execution_count": 1,
   "metadata": {},
   "outputs": [],
   "source": [
    "import msgpack\n",
    "\n",
    "file_path = \"./2020-05-15_demo.msg\"\n",
    "\n",
    "with open(file_path, \"rb\") as data_file:\n",
    "    byte_data = data_file.read()\n",
    "\n",
    "data_loaded = msgpack.unpackb(byte_data)"
   ]
  },
  {
   "cell_type": "markdown",
   "metadata": {},
   "source": [
    "Extract points from msqpack format to 3D point array.\n",
    "\n",
    "Also invert the x and y axis (because apparently everything is upside down from OpenVSLAM to Open3D ¯\\\\\\_(ツ)_/¯ )."
   ]
  },
  {
   "cell_type": "code",
   "execution_count": 58,
   "metadata": {},
   "outputs": [],
   "source": [
    "import numpy as np\n",
    "\n",
    "pts_new = np.array([item[b'pos_w'] for item in data_loaded[b'landmarks'].values()])\n",
    "\n",
    "R = np.array([[1,0,0],\n",
    "              [0,0,-1],\n",
    "              [0,1,0]])\n",
    "pts_new = np.dot(pts_new, R.T)"
   ]
  },
  {
   "cell_type": "code",
   "execution_count": 72,
   "metadata": {},
   "outputs": [],
   "source": [
    "import open3d as o3d\n",
    "\n",
    "def remove_outliers(cloud):\n",
    "    voxel_down_pcd = cloud.voxel_down_sample(voxel_size=0.02)\n",
    "    cl, ind = voxel_down_pcd.remove_statistical_outlier(nb_neighbors=20, std_ratio=1.0)\n",
    "    return voxel_down_pcd.select_down_sample(ind)\n",
    "\n",
    "pcd = o3d.geometry.PointCloud()\n",
    "pcd.points = o3d.utility.Vector3dVector(\n",
    "    pts_new\n",
    ")\n",
    "\n",
    "inlier_cloud = remove_outliers(pcd)"
   ]
  },
  {
   "cell_type": "markdown",
   "metadata": {},
   "source": [
    "Visualize the pointcloud with the ability to have black backgounrd (by pressing k)."
   ]
  },
  {
   "cell_type": "code",
   "execution_count": 73,
   "metadata": {},
   "outputs": [],
   "source": [
    "def change_background_to_black(vis):\n",
    "    opt = vis.get_render_option()\n",
    "    opt.background_color = 1 - opt.background_color\n",
    "    return False\n",
    "\n",
    "key_to_callback = {\n",
    "    ord(\"K\"): change_background_to_black\n",
    "}\n",
    "\n",
    "# Draw everything\n",
    "o3d.visualization.draw_geometries_with_key_callbacks([inlier_cloud], key_to_callback)"
   ]
  },
  {
   "cell_type": "code",
   "execution_count": null,
   "metadata": {},
   "outputs": [],
   "source": []
  }
 ],
 "metadata": {
  "kernelspec": {
   "display_name": "Python 3",
   "language": "python",
   "name": "python3"
  },
  "language_info": {
   "codemirror_mode": {
    "name": "ipython",
    "version": 3
   },
   "file_extension": ".py",
   "mimetype": "text/x-python",
   "name": "python",
   "nbconvert_exporter": "python",
   "pygments_lexer": "ipython3",
   "version": "3.7.4"
  }
 },
 "nbformat": 4,
 "nbformat_minor": 4
}